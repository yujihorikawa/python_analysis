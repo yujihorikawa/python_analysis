{
  "nbformat": 4,
  "nbformat_minor": 0,
  "metadata": {
    "colab": {
      "provenance": []
    },
    "kernelspec": {
      "name": "python3",
      "display_name": "Python 3"
    },
    "language_info": {
      "name": "python"
    }
  },
  "cells": [
    {
      "cell_type": "code",
      "execution_count": 1,
      "metadata": {
        "colab": {
          "base_uri": "https://localhost:8080/"
        },
        "id": "2f4_k-3opcQu",
        "outputId": "a35bf7d6-0645-455d-b682-d75a205f3264"
      },
      "outputs": [
        {
          "output_type": "stream",
          "name": "stdout",
          "text": [
            "Matrix A:\n",
            "[[0 1]\n",
            " [2 3]\n",
            " [4 5]]\n",
            "\n",
            "Matrix B:\n",
            "[[0 1 2 3]\n",
            " [4 5 6 7]]\n",
            "\n",
            "Matrix A x B:\n",
            "[[ 4  5  6  7]\n",
            " [12 17 22 27]\n",
            " [20 29 38 47]]\n",
            "\n",
            "Maximum value in the resulting matrix:\n",
            "47\n"
          ]
        }
      ],
      "source": [
        "import numpy as np\n",
        "\n",
        "# 行列AとBを定義\n",
        "A = np.array([\n",
        "    [0, 1],\n",
        "    [2, 3],\n",
        "    [4, 5]\n",
        "])\n",
        "\n",
        "B = np.array([\n",
        "    [0, 1, 2, 3],\n",
        "    [4, 5, 6, 7]\n",
        "])\n",
        "\n",
        "# 行列の積を計算\n",
        "C = np.dot(A, B)\n",
        "\n",
        "# 結果を表示\n",
        "print(\"Matrix A:\")\n",
        "print(A)\n",
        "print(\"\\nMatrix B:\")\n",
        "print(B)\n",
        "print(\"\\nMatrix A x B:\")\n",
        "print(C)\n",
        "\n",
        "# 計算された行列の要素の最大値を求めて表示\n",
        "max_value = np.max(C)\n",
        "print(\"\\nMaximum value in the resulting matrix:\")\n",
        "print(max_value)\n"
      ]
    }
  ]
}